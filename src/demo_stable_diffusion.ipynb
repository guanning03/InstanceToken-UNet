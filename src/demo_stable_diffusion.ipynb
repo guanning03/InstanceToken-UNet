{
 "cells": [
  {
   "cell_type": "code",
   "execution_count": 1,
   "metadata": {},
   "outputs": [
    {
     "name": "stderr",
     "output_type": "stream",
     "text": [
      "/mnt/hypercube/gzeng/miniconda3/envs/initno/lib/python3.10/site-packages/tqdm/auto.py:21: TqdmWarning: IProgress not found. Please update jupyter and ipywidgets. See https://ipywidgets.readthedocs.io/en/stable/user_install.html\n",
      "  from .autonotebook import tqdm as notebook_tqdm\n",
      "Loading pipeline components...:  43%|████▎     | 3/7 [00:00<00:00,  7.29it/s]/mnt/hypercube/gzeng/miniconda3/envs/initno/lib/python3.10/site-packages/transformers/tokenization_utils_base.py:1617: FutureWarning: `clean_up_tokenization_spaces` was not set. It will be set to `True` by default. This behavior will be deprecated in transformers v4.45, and will be then set to `False` by default. For more details check this issue: https://github.com/huggingface/transformers/issues/31884\n",
      "  warnings.warn(\n",
      "Loading pipeline components...: 100%|██████████| 7/7 [00:00<00:00, 11.72it/s]\n",
      "100%|██████████| 50/50 [00:16<00:00,  3.01it/s]\n",
      "Potential NSFW content was detected in one or more images. A black image will be returned instead. Try again with a different prompt and/or seed.\n"
     ]
    },
    {
     "data": {
      "image/jpeg": "[encoded data removed]",
      "image/png": "[encoded data removed]",
      "text/plain": [
       "<PIL.Image.Image image mode=RGB size=512x512>"
      ]
     },
     "execution_count": 1,
     "metadata": {},
     "output_type": "execute_result"
    }
   ],
   "source": [
    "import diffusers,torch\n",
    "from diffusers import StableDiffusionPipeline\n",
    "from attn.ptp_utils import AttendExciteAttnProcessor, PositionalEmbeddedAttnProcessor, AttentionStore, register_attention_control\n",
    "\n",
    "torch.manual_seed(0)\n",
    "\n",
    "model_id = \"runwayml/stable-diffusion-v1-5\"\n",
    "\n",
    "model = StableDiffusionPipeline.from_pretrained(model_id).to('cuda:1')\n",
    "\n",
    "attention_store = AttentionStore(attn_res = 16)\n",
    "model.attention_store = attention_store\n",
    "register_attention_control(model.unet, model.attention_store)\n",
    "\n",
    "prompt = 'a photo of a cat'\n",
    "\n",
    "image = model(prompt).images[0]\n",
    "\n",
    "image\n"
   ]
  },
  {
   "cell_type": "code",
   "execution_count": 2,
   "metadata": {},
   "outputs": [
    {
     "data": {
      "text/plain": [
       "tensor([[[9.9286e-01, 2.7756e-04, 8.6692e-04,  ..., 3.0535e-05,\n",
       "          3.0987e-05, 3.0927e-05],\n",
       "         [9.9373e-01, 1.9501e-04, 5.2799e-04,  ..., 2.8119e-05,\n",
       "          2.8555e-05, 2.8569e-05],\n",
       "         [9.8206e-01, 4.4121e-04, 8.8700e-04,  ..., 1.4487e-04,\n",
       "          1.4701e-04, 1.3908e-04],\n",
       "         ...,\n",
       "         [7.1366e-01, 6.8991e-03, 7.4289e-03,  ..., 3.1709e-03,\n",
       "          3.2139e-03, 3.1787e-03],\n",
       "         [7.3171e-01, 5.6545e-03, 7.2566e-03,  ..., 3.1318e-03,\n",
       "          3.1773e-03, 3.1157e-03],\n",
       "         [7.1877e-01, 6.2844e-03, 8.2527e-03,  ..., 3.4244e-03,\n",
       "          3.5020e-03, 3.3523e-03]],\n",
       "\n",
       "        [[9.9141e-01, 4.0217e-04, 7.7935e-04,  ..., 4.6452e-05,\n",
       "          4.7493e-05, 4.7375e-05],\n",
       "         [9.9318e-01, 2.1025e-04, 4.5318e-04,  ..., 3.8571e-05,\n",
       "          3.9259e-05, 3.9269e-05],\n",
       "         [9.8546e-01, 3.6466e-04, 7.5226e-04,  ..., 1.3252e-04,\n",
       "          1.3528e-04, 1.3210e-04],\n",
       "         ...,\n",
       "         [7.6266e-01, 5.3529e-03, 6.4402e-03,  ..., 2.5708e-03,\n",
       "          2.5978e-03, 2.5898e-03],\n",
       "         [7.5337e-01, 5.6389e-03, 7.0168e-03,  ..., 2.6937e-03,\n",
       "          2.7307e-03, 2.6955e-03],\n",
       "         [7.2746e-01, 6.0675e-03, 7.9780e-03,  ..., 3.0880e-03,\n",
       "          3.1362e-03, 3.0573e-03]],\n",
       "\n",
       "        [[9.8951e-01, 5.2394e-04, 9.6307e-04,  ..., 5.7209e-05,\n",
       "          5.8417e-05, 5.8826e-05],\n",
       "         [9.9124e-01, 2.9159e-04, 5.9131e-04,  ..., 5.6395e-05,\n",
       "          5.7321e-05, 5.7457e-05],\n",
       "         [9.8118e-01, 4.4862e-04, 9.3171e-04,  ..., 1.7133e-04,\n",
       "          1.7435e-04, 1.7214e-04],\n",
       "         ...,\n",
       "         [7.3324e-01, 6.0861e-03, 7.9514e-03,  ..., 2.9877e-03,\n",
       "          3.0339e-03, 2.9791e-03],\n",
       "         [7.3711e-01, 6.2582e-03, 7.8958e-03,  ..., 3.0452e-03,\n",
       "          3.1006e-03, 3.0292e-03],\n",
       "         [6.9753e-01, 7.3244e-03, 9.2020e-03,  ..., 3.5893e-03,\n",
       "          3.6583e-03, 3.5327e-03]],\n",
       "\n",
       "        ...,\n",
       "\n",
       "        [[9.2287e-01, 2.7742e-03, 4.2906e-03,  ..., 6.0682e-04,\n",
       "          6.1436e-04, 6.0986e-04],\n",
       "         [8.7822e-01, 3.7883e-03, 5.5166e-03,  ..., 1.1562e-03,\n",
       "          1.1705e-03, 1.1186e-03],\n",
       "         [7.9066e-01, 5.6686e-03, 7.6683e-03,  ..., 2.0912e-03,\n",
       "          2.1029e-03, 2.0959e-03],\n",
       "         ...,\n",
       "         [4.6460e-01, 1.2361e-02, 1.4178e-02,  ..., 6.9163e-03,\n",
       "          6.9476e-03, 6.8979e-03],\n",
       "         [4.2426e-01, 1.4568e-02, 1.5473e-02,  ..., 7.2666e-03,\n",
       "          7.3044e-03, 7.2005e-03],\n",
       "         [3.2047e-01, 1.8401e-02, 2.0668e-02,  ..., 8.4276e-03,\n",
       "          8.4559e-03, 8.3552e-03]],\n",
       "\n",
       "        [[9.3639e-01, 2.3047e-03, 3.2124e-03,  ..., 5.2098e-04,\n",
       "          5.2942e-04, 5.2183e-04],\n",
       "         [9.0102e-01, 3.2750e-03, 4.2924e-03,  ..., 8.9020e-04,\n",
       "          9.0258e-04, 8.7095e-04],\n",
       "         [8.0559e-01, 5.5446e-03, 5.6286e-03,  ..., 2.0730e-03,\n",
       "          2.0917e-03, 2.0715e-03],\n",
       "         ...,\n",
       "         [4.8512e-01, 1.3023e-02, 1.4079e-02,  ..., 6.4322e-03,\n",
       "          6.4476e-03, 6.4412e-03],\n",
       "         [4.6599e-01, 1.5083e-02, 1.5791e-02,  ..., 6.2904e-03,\n",
       "          6.2988e-03, 6.3115e-03],\n",
       "         [3.8896e-01, 1.6147e-02, 1.7340e-02,  ..., 7.4925e-03,\n",
       "          7.5131e-03, 7.4660e-03]],\n",
       "\n",
       "        [[9.1150e-01, 3.1445e-03, 4.2620e-03,  ..., 7.6472e-04,\n",
       "          7.7631e-04, 7.7766e-04],\n",
       "         [8.8971e-01, 3.0425e-03, 3.8821e-03,  ..., 1.1170e-03,\n",
       "          1.1302e-03, 1.1087e-03],\n",
       "         [8.1836e-01, 4.8384e-03, 5.2688e-03,  ..., 2.1688e-03,\n",
       "          2.1910e-03, 2.1558e-03],\n",
       "         ...,\n",
       "         [4.3805e-01, 1.4787e-02, 1.7060e-02,  ..., 7.0014e-03,\n",
       "          7.0241e-03, 7.0233e-03],\n",
       "         [4.1064e-01, 1.5767e-02, 1.7248e-02,  ..., 7.2998e-03,\n",
       "          7.3143e-03, 7.3088e-03],\n",
       "         [3.0217e-01, 1.8067e-02, 1.8931e-02,  ..., 8.9700e-03,\n",
       "          8.9853e-03, 8.9616e-03]]], device='cuda:1')"
      ]
     },
     "execution_count": 2,
     "metadata": {},
     "output_type": "execute_result"
    }
   ],
   "source": [
    "aggregate_cross_attention_maps = attention_store.aggregate_attention(from_where=(\"up\", \"down\", \"mid\"), is_cross=True)\n",
    "\n",
    "aggregate_cross_attention_maps"
   ]
  }
 ],
 "metadata": {
  "kernelspec": {
   "display_name": "initno",
   "language": "python",
   "name": "python3"
  },
  "language_info": {
   "codemirror_mode": {
    "name": "ipython",
    "version": 3
   },
   "file_extension": ".py",
   "mimetype": "text/x-python",
   "name": "python",
   "nbconvert_exporter": "python",
   "pygments_lexer": "ipython3",
   "version": "3.10.14"
  }
 },
 "nbformat": 4,
 "nbformat_minor": 2
}
