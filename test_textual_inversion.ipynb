{
 "cells": [
  {
   "cell_type": "code",
   "execution_count": null,
   "metadata": {},
   "outputs": [],
   "source": [
    "import diffusers\n",
    "from diffusers import StableDiffusionPipeline\n",
    "\n",
    "model_id = 'runwayml/stable-diffusion-v1-5'\n",
    "\n",
    "pipeline "
   ]
  }
 ],
 "metadata": {
  "language_info": {
   "name": "python"
  }
 },
 "nbformat": 4,
 "nbformat_minor": 2
}
